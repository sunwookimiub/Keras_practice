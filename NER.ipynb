{
 "cells": [
  {
   "cell_type": "markdown",
   "metadata": {},
   "source": [
    "# Imports"
   ]
  },
  {
   "cell_type": "code",
   "execution_count": 1,
   "metadata": {},
   "outputs": [
    {
     "name": "stderr",
     "output_type": "stream",
     "text": [
      "Using TensorFlow backend.\n"
     ]
    }
   ],
   "source": [
    "import gensim\n",
    "import os\n",
    "# os.environ['KERAS_BACKEND'] = 'theano'\n",
    "import keras\n",
    "from keras.models import Sequential\n",
    "from keras.layers import Dense, LSTM, InputLayer, Bidirectional, TimeDistributed, Embedding, Activation\n",
    "from keras.optimizers import Adam\n",
    "import pandas as pd\n",
    "import numpy as np\n",
    "\n",
    "import utils\n",
    "import models"
   ]
  },
  {
   "cell_type": "code",
   "execution_count": 2,
   "metadata": {},
   "outputs": [],
   "source": [
    "import os\n",
    "os.environ[\"CUDA_DEVICE_ORDER\"]=\"PCI_BUS_ID\"\n",
    "os.environ[\"CUDA_VISIBLE_DEVICES\"]='5'\n",
    "os.environ['TF_CPP_MIN_LOG_LEVEL'] = '3'"
   ]
  },
  {
   "cell_type": "markdown",
   "metadata": {},
   "source": [
    "# Parameters"
   ]
  },
  {
   "cell_type": "code",
   "execution_count": 3,
   "metadata": {},
   "outputs": [],
   "source": [
    "num_tokens = 10\n",
    "batch_size = 128\n",
    "hidden_size = 256\n",
    "learning_rate = 0.001\n",
    "num_features = 3\n",
    "num_epochs = 3"
   ]
  },
  {
   "cell_type": "markdown",
   "metadata": {},
   "source": [
    "# Data"
   ]
  },
  {
   "cell_type": "code",
   "execution_count": 4,
   "metadata": {},
   "outputs": [
    {
     "name": "stdout",
     "output_type": "stream",
     "text": [
      "DF Shape:  (219553, 4)\n"
     ]
    }
   ],
   "source": [
    "indexedSplitData, indexDicts = utils.load_data(\"NER-datasets-master/CONLL2003/train.txt\", num_tokens)\n"
   ]
  },
  {
   "cell_type": "markdown",
   "metadata": {},
   "source": [
    "# Model"
   ]
  },
  {
   "cell_type": "code",
   "execution_count": 5,
   "metadata": {},
   "outputs": [
    {
     "name": "stdout",
     "output_type": "stream",
     "text": [
      "__________________________________________________________________________________________________\n",
      "Layer (type)                    Output Shape         Param #     Connected to                     \n",
      "==================================================================================================\n",
      "input_1 (InputLayer)            (None, 10)           0                                            \n",
      "__________________________________________________________________________________________________\n",
      "input_2 (InputLayer)            (None, 10)           0                                            \n",
      "__________________________________________________________________________________________________\n",
      "embedding_1 (Embedding)         (None, 10, 128)      2400768     input_1[0][0]                    \n",
      "__________________________________________________________________________________________________\n",
      "embedding_2 (Embedding)         (None, 10, 128)      5888        input_2[0][0]                    \n",
      "__________________________________________________________________________________________________\n",
      "input_3 (InputLayer)            (None, 10)           0                                            \n",
      "__________________________________________________________________________________________________\n",
      "concatenate_1 (Concatenate)     (None, 10, 256)      0           embedding_1[0][0]                \n",
      "                                                                 embedding_2[0][0]                \n",
      "__________________________________________________________________________________________________\n",
      "embedding_3 (Embedding)         (None, 10, 128)      2688        input_3[0][0]                    \n",
      "__________________________________________________________________________________________________\n",
      "concatenate_2 (Concatenate)     (None, 10, 384)      0           concatenate_1[0][0]              \n",
      "                                                                 embedding_3[0][0]                \n",
      "__________________________________________________________________________________________________\n",
      "bidirectional_1 (Bidirectional) (None, 10, 512)      1312768     concatenate_2[0][0]              \n",
      "__________________________________________________________________________________________________\n",
      "time_distributed_1 (TimeDistrib (None, 10, 9)        4617        bidirectional_1[0][0]            \n",
      "__________________________________________________________________________________________________\n",
      "activation_1 (Activation)       (None, 10, 9)        0           time_distributed_1[0][0]         \n",
      "==================================================================================================\n",
      "Total params: 3,726,729\n",
      "Trainable params: 3,726,729\n",
      "Non-trainable params: 0\n",
      "__________________________________________________________________________________________________\n",
      "None\n"
     ]
    }
   ],
   "source": [
    "fm = models.NER_Model(num_tokens, indexDicts, batch_size, hidden_size, learning_rate, num_features)\n"
   ]
  },
  {
   "cell_type": "code",
   "execution_count": 6,
   "metadata": {},
   "outputs": [
    {
     "name": "stdout",
     "output_type": "stream",
     "text": [
      "Train on 13091 samples, validate on 3273 samples\n",
      "Epoch 1/3\n",
      " - 12s - loss: 0.6876 - acc: 0.8378 - val_loss: 0.3465 - val_acc: 0.9001\n",
      "Epoch 2/3\n",
      " - 3s - loss: 0.2272 - acc: 0.9303 - val_loss: 0.1622 - val_acc: 0.9529\n",
      "Epoch 3/3\n",
      " - 3s - loss: 0.0955 - acc: 0.9740 - val_loss: 0.1110 - val_acc: 0.9675\n"
     ]
    }
   ],
   "source": [
    "fm.fit([\n",
    "        indexedSplitData['train_sentences_X'], \n",
    "        indexedSplitData['train_poses'],\n",
    "        indexedSplitData['train_entposes']\n",
    "       ],\n",
    "       indexedSplitData['train_tags_y'], num_epochs)"
   ]
  },
  {
   "cell_type": "markdown",
   "metadata": {},
   "source": [
    "# Confusion Matrix"
   ]
  },
  {
   "cell_type": "code",
   "execution_count": 7,
   "metadata": {},
   "outputs": [],
   "source": [
    "predictions = fm.predict_class([\n",
    "        indexedSplitData['test_sentences_X'], \n",
    "        indexedSplitData['test_poses'],\n",
    "        indexedSplitData['test_entposes']\n",
    "       ])"
   ]
  },
  {
   "cell_type": "code",
   "execution_count": 12,
   "metadata": {},
   "outputs": [],
   "source": [
    "target_names = [indexDicts['index2tag'][x] for x in indexDicts['index2tag']]"
   ]
  },
  {
   "cell_type": "code",
   "execution_count": 10,
   "metadata": {},
   "outputs": [],
   "source": [
    "from sklearn.metrics import classification_report, confusion_matrix\n",
    "import matplotlib.pyplot as plt"
   ]
  },
  {
   "cell_type": "code",
   "execution_count": 13,
   "metadata": {},
   "outputs": [
    {
     "name": "stdout",
     "output_type": "stream",
     "text": [
      "[[ 1143    21    32     5     1     1     2    21    28]\n",
      " [   27   818     3     2     1    21     9     6    20]\n",
      " [   11     1  1289    17     7    22    19    56    12]\n",
      " [    7     0    35   544    13     2     5    40    27]\n",
      " [    6     7     2    10   136    20    11     4    29]\n",
      " [    1    13     0     0     9   505    13    22    31]\n",
      " [    1     3     4     4     1    31   151     2     1]\n",
      " [   43     1    52    14     3    36     0  1061    43]\n",
      " [   42    13    35    48    47    88    11    72 34026]]\n"
     ]
    },
    {
     "data": {
      "image/png": "[encoded data removed]",
      "text/plain": [
       "<matplotlib.figure.Figure at 0x7f3e7cb1f630>"
      ]
     },
     "metadata": {},
     "output_type": "display_data"
    }
   ],
   "source": [
    "temp = confusion_matrix(np.reshape(predictions, [-1]), np.reshape(indexedSplitData['test_tags_y'], [-1]))\n",
    "print(temp)\n",
    "fig = plt.figure(figsize=(8, 6))\n",
    "ax = fig.add_subplot(111)\n",
    "cax = ax.matshow(np.log(temp + 1))\n",
    "#cax = ax.matshow((temp))\n",
    "#ax.set_title('Confusion matrix of the classifier')\n",
    "fig.colorbar(cax)\n",
    "ax.set_xticklabels([''] + target_names)\n",
    "ax.set_yticklabels([''] + target_names)\n",
    "plt.xlabel('Predicted')\n",
    "plt.ylabel('True')\n",
    "plt.title(\"Classification Confusion Matrix [Log Scale]\")\n",
    "plt.show()"
   ]
  },
  {
   "cell_type": "code",
   "execution_count": 14,
   "metadata": {},
   "outputs": [
    {
     "name": "stdout",
     "output_type": "stream",
     "text": [
      "             precision    recall  f1-score   support\n",
      "\n",
      "      B-PER       0.89      0.91      0.90      1254\n",
      "      I-PER       0.93      0.90      0.92       907\n",
      "      B-LOC       0.89      0.90      0.89      1434\n",
      "     B-MISC       0.84      0.81      0.83       673\n",
      "     I-MISC       0.62      0.60      0.61       225\n",
      "      I-ORG       0.70      0.85      0.77       594\n",
      "      I-LOC       0.68      0.76      0.72       198\n",
      "      B-ORG       0.83      0.85      0.84      1253\n",
      "          O       0.99      0.99      0.99     34382\n",
      "\n",
      "avg / total       0.97      0.97      0.97     40920\n",
      "\n"
     ]
    }
   ],
   "source": [
    "print (classification_report(np.reshape(predictions, [-1]), np.reshape(indexedSplitData['test_tags_y'], [-1]), \n",
    "                             target_names=target_names))\n"
   ]
  },
  {
   "cell_type": "code",
   "execution_count": null,
   "metadata": {},
   "outputs": [],
   "source": []
  }
 ],
 "metadata": {
  "kernelspec": {
   "display_name": "Python 3",
   "language": "python",
   "name": "python3"
  },
  "language_info": {
   "codemirror_mode": {
    "name": "ipython",
    "version": 3
   },
   "file_extension": ".py",
   "mimetype": "text/x-python",
   "name": "python",
   "nbconvert_exporter": "python",
   "pygments_lexer": "ipython3",
   "version": "3.7.0"
  }
 },
 "nbformat": 4,
 "nbformat_minor": 2
}
